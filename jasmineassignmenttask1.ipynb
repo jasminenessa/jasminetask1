{
  "nbformat": 4,
  "nbformat_minor": 0,
  "metadata": {
    "colab": {
      "name": "jasmineassignmenttask1.ipynb",
      "provenance": [],
      "mount_file_id": "1S3kN0mecdDZVpU7_y-W9vlYUV_PjYY5h",
      "authorship_tag": "ABX9TyMUDV0f1W7v9Bv9tJb8fAFG",
      "include_colab_link": true
    },
    "kernelspec": {
      "name": "python3",
      "display_name": "Python 3"
    },
    "language_info": {
      "name": "python"
    }
  },
  "cells": [
    {
      "cell_type": "markdown",
      "metadata": {
        "id": "view-in-github",
        "colab_type": "text"
      },
      "source": [
        "<a href=\"https://colab.research.google.com/github/jasminenessa/jasminetask1/blob/main/jasmineassignmenttask1.ipynb\" target=\"_parent\"><img src=\"https://colab.research.google.com/assets/colab-badge.svg\" alt=\"Open In Colab\"/></a>"
      ]
    },
    {
      "cell_type": "code",
      "source": [
        "import re\n",
        "import os\n",
        "import json"
      ],
      "metadata": {
        "id": "XEp_xjCMFuB-"
      },
      "execution_count": 1,
      "outputs": []
    },
    {
      "cell_type": "code",
      "execution_count": 9,
      "metadata": {
        "id": "qAegtxH6FU-j",
        "colab": {
          "base_uri": "https://localhost:8080/",
          "height": 495
        },
        "outputId": "46566205-dde9-4b5e-e181-6260b52fbd77"
      },
      "outputs": [
        {
          "output_type": "stream",
          "name": "stdout",
          "text": [
            "Enter 1 for Registraion \n",
            "Enter 2 for Login\n",
            "Enter 3 Retrive_Password \n",
            "1\n",
            "Enter the Email for registration:jasminenessa92@gmail.com\n",
            "Enter the Password for registraion:Jas@123\n",
            "Valid Email and Password\n",
            "Registration Successful\n"
          ]
        },
        {
          "output_type": "error",
          "ename": "NameError",
          "evalue": "ignored",
          "traceback": [
            "\u001b[0;31m---------------------------------------------------------------------------\u001b[0m",
            "\u001b[0;31mNameError\u001b[0m                                 Traceback (most recent call last)",
            "\u001b[0;32m<ipython-input-9-2bf019e69579>\u001b[0m in \u001b[0;36m<module>\u001b[0;34m()\u001b[0m\n\u001b[1;32m     67\u001b[0m \u001b[0mini1\u001b[0m\u001b[0;34m=\u001b[0m\u001b[0minput\u001b[0m\u001b[0;34m(\u001b[0m\u001b[0;34m\"Enter 1 for Registraion \\nEnter 2 for Login\\nEnter 3 Retrive_Password \\n\"\u001b[0m\u001b[0;34m)\u001b[0m\u001b[0;34m\u001b[0m\u001b[0;34m\u001b[0m\u001b[0m\n\u001b[1;32m     68\u001b[0m \u001b[0;32mif\u001b[0m \u001b[0mini1\u001b[0m\u001b[0;34m==\u001b[0m\u001b[0;34m\"1\"\u001b[0m\u001b[0;34m:\u001b[0m\u001b[0;34m\u001b[0m\u001b[0;34m\u001b[0m\u001b[0m\n\u001b[0;32m---> 69\u001b[0;31m   \u001b[0mRegistration\u001b[0m\u001b[0;34m(\u001b[0m\u001b[0;34m)\u001b[0m\u001b[0;34m\u001b[0m\u001b[0;34m\u001b[0m\u001b[0m\n\u001b[0m\u001b[1;32m     70\u001b[0m \u001b[0;34m\u001b[0m\u001b[0m\n\u001b[1;32m     71\u001b[0m \u001b[0;32melif\u001b[0m \u001b[0mini1\u001b[0m\u001b[0;34m==\u001b[0m\u001b[0;34m\"2\"\u001b[0m\u001b[0;34m:\u001b[0m\u001b[0;34m\u001b[0m\u001b[0;34m\u001b[0m\u001b[0m\n",
            "\u001b[0;32m<ipython-input-9-2bf019e69579>\u001b[0m in \u001b[0;36mRegistration\u001b[0;34m()\u001b[0m\n\u001b[1;32m     44\u001b[0m   \u001b[0mx\u001b[0m\u001b[0;34m=\u001b[0m\u001b[0mjson\u001b[0m\u001b[0;34m.\u001b[0m\u001b[0mloads\u001b[0m\u001b[0;34m(\u001b[0m\u001b[0mfilecontents\u001b[0m\u001b[0;34m)\u001b[0m\u001b[0;34m\u001b[0m\u001b[0;34m\u001b[0m\u001b[0m\n\u001b[1;32m     45\u001b[0m   \u001b[0mf\u001b[0m\u001b[0;34m.\u001b[0m\u001b[0mclose\u001b[0m\u001b[0;34m(\u001b[0m\u001b[0;34m)\u001b[0m\u001b[0;34m\u001b[0m\u001b[0;34m\u001b[0m\u001b[0m\n\u001b[0;32m---> 46\u001b[0;31m   \u001b[0;32mif\u001b[0m\u001b[0;34m(\u001b[0m\u001b[0mForgotpass_Email\u001b[0m \u001b[0;32min\u001b[0m \u001b[0mx\u001b[0m\u001b[0;34m.\u001b[0m\u001b[0mkeys\u001b[0m\u001b[0;34m(\u001b[0m\u001b[0;34m)\u001b[0m\u001b[0;34m)\u001b[0m\u001b[0;34m:\u001b[0m\u001b[0;34m\u001b[0m\u001b[0;34m\u001b[0m\u001b[0m\n\u001b[0m\u001b[1;32m     47\u001b[0m     \u001b[0mprint\u001b[0m\u001b[0;34m(\u001b[0m\u001b[0;34m\"The Password for your email is: \"\u001b[0m\u001b[0;34m,\u001b[0m\u001b[0mx\u001b[0m\u001b[0;34m[\u001b[0m\u001b[0mForgotpass_Email\u001b[0m\u001b[0;34m]\u001b[0m\u001b[0;34m)\u001b[0m\u001b[0;34m\u001b[0m\u001b[0;34m\u001b[0m\u001b[0m\n\u001b[1;32m     48\u001b[0m   \u001b[0;32melse\u001b[0m\u001b[0;34m:\u001b[0m\u001b[0;34m\u001b[0m\u001b[0;34m\u001b[0m\u001b[0m\n",
            "\u001b[0;31mNameError\u001b[0m: name 'Forgotpass_Email' is not defined"
          ]
        }
      ],
      "source": [
        "def Registration():\n",
        "  email=input(\"Enter the Email for registration:\")\n",
        "  regex1 = '^[A-Za-z0-9]+[@]\\w+[.]\\w{2,3}$'\n",
        "  if(re.search (regex1, email)):\n",
        "    pw=input(\"Enter the Password for registraion:\")\n",
        "    regex2 = \"^.*(?=.{6,15})(?=.*\\d)(?=.*[a-z])(?=.*[A-Z])(?=.*[@#$%^&+=]).*$\"\n",
        "    if(re.findall(regex2, pw)):\n",
        "        print(\"Valid Email and Password\")\n",
        "        Dic1={email:pw}\n",
        "        path = '/content/jas.txt'\n",
        "        isExist = os.path.exists(path)\n",
        "        if isExist is False:\n",
        "          f = open(\"jas.txt\", \"w\")\n",
        "          f.write(json.dumps(Dic1))\n",
        "          f.close()\n",
        "          print(\"Registration Successful\")\n",
        "        else:\n",
        "          f = open(\"jas.txt\", \"r\")\n",
        "          filecontents = f.read()\n",
        "          x = json.loads(filecontents)\n",
        "          f.close()\n",
        "          x.update(Dic1)\n",
        "          f = open(\"jas.txt\", \"w\")\n",
        "          f.write(json.dumps(x))\n",
        "          f.close()\n",
        "          print(\"Registration Successful\")   \n",
        "    else:\n",
        "       \n",
        "      print(\"Invalid Password, make sure the following conditions are satisfied:\"\n",
        "      \"\\n Your password must have:\"\n",
        "      \"\\n   one special character\"\n",
        "      \"\\n   one digit\"\n",
        "      \"\\n   one uppercase\"\n",
        "      \"\\n   one lowercase character\")\n",
        "  else:\n",
        "    print(\"Invalid Username, make sure the following conditions are satisfied:\" \n",
        "    \"\\n Username should have @ and followed by .\" \n",
        "    \"\\n There should not be any . immediate next to @\" \n",
        "    \"\\n It should not start with special characters and numbers\")\n",
        "    def Retrive_Password():\n",
        "     Forgotpass_Email=input(\"Enter your email to retrieve your password: \")\n",
        "  f=open(\"jas.txt\",\"r\")\n",
        "  filecontents=f.read()\n",
        "  x=json.loads(filecontents)\n",
        "  f.close()\n",
        "  if(Forgotpass_Email in x.keys()):\n",
        "    print(\"The Password for your email is: \",x[Forgotpass_Email])\n",
        "  else:\n",
        "    print(\"Go and Register\")\n",
        "\n",
        "def Login():\n",
        "  Login_Email = input(\"Enter your login email \")\n",
        "\n",
        "  f = open(\"jasminenessa92@gmail.com.txt\", \"r\")\n",
        "  filecontents = f.read()\n",
        "  x = json.loads(filecontents)\n",
        "  f.close()\n",
        "  if (Login_Email not in x.keys()):\n",
        "    print(\"Your email is not registered, please Register first and then Login\")\n",
        "  else:\n",
        "    Login_Password = input(\"Enter your login password \")\n",
        "    if (x[Login_Email] == Login_Password):\n",
        "      print(\"Login Successful\")\n",
        "    else:\n",
        "      print(\"Forgot Password? Please provide the email ID to retrieve the password\") \n",
        "\n",
        "ini1=input(\"Enter 1 for Registraion \\nEnter 2 for Login\\nEnter 3 Retrive_Password \\n\")\n",
        "if ini1==\"1\":\n",
        "  Registration()\n",
        "\n",
        "elif ini1==\"2\":\n",
        "  Login()\n",
        "\n",
        "elif ini1==\"3\":\n",
        "  Retrive_Password()\n",
        "    \n",
        "else:\n",
        "  print(\"Ener a valid option\")"
      ]
    }
  ]
}